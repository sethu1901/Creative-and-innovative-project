{
 "cells": [
  {
   "cell_type": "code",
   "execution_count": null,
   "metadata": {},
   "outputs": [],
   "source": [
    "import numpy as np \n",
    "import os\n",
    "import matplotlib.pyplot as plt\n",
    "import tensorflow as tf\n",
    "import keras\n",
    "from keras.preprocessing import image\n",
    "from keras.models import Sequential\n",
    "from keras.layers import Conv2D, MaxPool2D, Flatten,Dense,Dropout,BatchNormalization\n",
    "from tensorflow.keras.preprocessing.image import ImageDataGenerator\n",
    "import random\n",
    "from tensorflow.keras.applications import VGG16, InceptionResNetV2\n",
    "from keras import regularizers\n",
    "from tensorflow.keras.optimizers import Adam,RMSprop,SGD,Adamax\n",
    "import tensorflow as tf\n",
    "import keras\n",
    "from keras.layers import Conv2D, MaxPool2D, Flatten,Dense,Dropout,BatchNormalization\n",
    "import cv2\n",
    "from deepface import DeepFace"
   ]
  },
  {
   "cell_type": "code",
   "execution_count": null,
   "metadata": {},
   "outputs": [],
   "source": [
    "training_data=[]\n",
    "categories=[\"angry\",\"disgusted\",'fearful','happy','neutral','sad','surprised']\n",
    "datadir=\"E:\\\\Downloads\\\\facial_emotion\\\\train\"\n",
    "for category in categories:\n",
    "  class_num = categories.index(category)\n",
    "  path=os.path.join(datadir,category)\n",
    "  for img in os.listdir(path):\n",
    "    training_data.append([cv2.imread(os.path.join(path,img)),class_num])"
   ]
  },
  {
   "cell_type": "code",
   "execution_count": null,
   "metadata": {},
   "outputs": [],
   "source": [
    "len(training_data)"
   ]
  },
  {
   "cell_type": "code",
   "execution_count": null,
   "metadata": {},
   "outputs": [],
   "source": [
    "import random\n",
    "random.shuffle(training_data) "
   ]
  },
  {
   "cell_type": "code",
   "execution_count": null,
   "metadata": {},
   "outputs": [],
   "source": [
    "x_train=[]\n",
    "y_train=[]\n",
    "for x,y in training_data:\n",
    "    x_train.append(x)\n",
    "    y_train.append(y)"
   ]
  },
  {
   "cell_type": "code",
   "execution_count": null,
   "metadata": {},
   "outputs": [],
   "source": [
    "y_train=np.array(y_train) \n",
    "x_train=np.array(x_train)\n",
    "x_train.shape"
   ]
  },
  {
   "cell_type": "code",
   "execution_count": null,
   "metadata": {},
   "outputs": [],
   "source": [
    "xtrain=[]\n",
    "ytrain=[]\n",
    "for image in x_train:\n",
    "  xtrain.append(cv2.cvtColor(image, cv2.COLOR_BGR2GRAY))"
   ]
  },
  {
   "cell_type": "code",
   "execution_count": null,
   "metadata": {},
   "outputs": [],
   "source": [
    "xtrain=np.array(xtrain)"
   ]
  },
  {
   "cell_type": "code",
   "execution_count": null,
   "metadata": {},
   "outputs": [],
   "source": [
    "xtrain=xtrain.reshape(-1,48,48,1) \n",
    "xtrain=xtrain/255.0 "
   ]
  },
  {
   "cell_type": "code",
   "execution_count": null,
   "metadata": {},
   "outputs": [],
   "source": [
    "from tensorflow.keras.layers import Input,Conv2D,Dense,Flatten,BatchNormalization,Dropout,MaxPool2D\n",
    "from tensorflow.keras.models import Model\n",
    "import tensorflow as tf\n",
    "from keras import regularizers\n",
    "from tensorflow.keras.optimizers import Adam,RMSprop,SGD,Adamax"
   ]
  },
  {
   "cell_type": "code",
   "execution_count": null,
   "metadata": {},
   "outputs": [],
   "source": [
    "model= tf.keras.models.Sequential()\n",
    "model.add(Conv2D(32, kernel_size=(3, 3), padding='same', activation='relu', input_shape=(48, 48,1)))\n",
    "model.add(Conv2D(64,(3,3), padding='same', activation='relu' ))\n",
    "model.add(BatchNormalization())\n",
    "model.add(MaxPool2D(pool_size=(2, 2)))\n",
    "model.add(Dropout(0.25))\n",
    "\n",
    "model.add(Conv2D(128,(5,5), padding='same', activation='relu'))\n",
    "model.add(BatchNormalization())\n",
    "model.add(MaxPool2D(pool_size=(2, 2)))\n",
    "model.add(Dropout(0.25))\n",
    "    \n",
    "model.add(Conv2D(512,(3,3), padding='same', activation='relu'))\n",
    "model.add(BatchNormalization())\n",
    "model.add(MaxPool2D(pool_size=(2, 2)))\n",
    "model.add(Dropout(0.25))\n",
    "model.add(Conv2D(512,(3,3), padding='same', activation='relu'))\n",
    "model.add(BatchNormalization())\n",
    "model.add(MaxPool2D(pool_size=(2, 2)))\n",
    "model.add(Dropout(0.25))\n",
    "\n",
    "model.add(Flatten()) \n",
    "model.add(Dense(256,activation = 'relu'))\n",
    "model.add(BatchNormalization())\n",
    "model.add(Dropout(0.25))\n",
    "model.add(Dense(512,activation = 'relu'))\n",
    "model.add(BatchNormalization())\n",
    "model.add(Dropout(0.25))\n",
    "model.add(Dense(7, activation='softmax'))"
   ]
  },
  {
   "cell_type": "code",
   "execution_count": null,
   "metadata": {},
   "outputs": [],
   "source": [
    "ytrain=tf.keras.utils.to_categorical(y_train,num_classes=7) "
   ]
  },
  {
   "cell_type": "code",
   "execution_count": null,
   "metadata": {},
   "outputs": [],
   "source": [
    "model.compile(optimizer = Adam(lr=0.001), loss='categorical_crossentropy', metrics=['accuracy']) "
   ]
  },
  {
   "cell_type": "code",
   "execution_count": null,
   "metadata": {},
   "outputs": [],
   "source": [
    "r = model.fit(xtrain, ytrain,validation_data=(xtest,ytest), epochs=20, verbose=1)"
   ]
  },
  {
   "cell_type": "code",
   "execution_count": null,
   "metadata": {},
   "outputs": [],
   "source": [
    "import matplotlib.pyplot as plt\n",
    "fig , ax = plt.subplots(1,2)\n",
    "train_acc = r.history['accuracy']\n",
    "train_loss = r.history['loss']\n",
    "fig.set_size_inches(12,4)\n",
    "\n",
    "ax[0].plot(r.history['accuracy'])\n",
    "ax[0].plot(r.history['val_accuracy'])\n",
    "ax[0].set_title('Training Accuracy vs Validation Accuracy')\n",
    "ax[0].set_ylabel('Accuracy')\n",
    "ax[0].set_xlabel('Epoch')\n",
    "ax[0].legend(['Train', 'Validation'], loc='upper left')\n",
    "\n",
    "ax[1].plot(r.history['loss'])\n",
    "ax[1].plot(r.history['val_loss'])\n",
    "ax[1].set_title('Training Loss vs Validation Loss')\n",
    "ax[1].set_ylabel('Loss')\n",
    "ax[1].set_xlabel('Epoch')\n",
    "ax[1].legend(['Train', 'Validation'], loc='upper left')\n",
    "\n",
    "\n",
    "plt.show()"
   ]
  },
  {
   "cell_type": "code",
   "execution_count": null,
   "metadata": {},
   "outputs": [],
   "source": [
    "testing_data=[]\n",
    "categories=[\"angry\",\"disgusted\",'fearful','happy','neutral','sad','surprised']\n",
    "datadir=\"E:\\\\Downloads\\\\facial_emotion\\\\test\"\n",
    "for category in categories:\n",
    "  class_num = categories.index(category)\n",
    "  path=os.path.join(datadir,category)\n",
    "  for img in os.listdir(path):\n",
    "    testing_data.append([cv2.imread(os.path.join(path,img)),class_num])"
   ]
  },
  {
   "cell_type": "code",
   "execution_count": null,
   "metadata": {},
   "outputs": [],
   "source": [
    "random.shuffle(testing_data) \n",
    "x_test=[]\n",
    "y_test=[]\n",
    "for x,y in testing_data:\n",
    "    x_test.append(x)\n",
    "    y_test.append(y)\n",
    "y_test=np.array(y_test) \n",
    "x_test=np.array(x_test)\n",
    "x_test.shape\n",
    "xtest=[]\n",
    "ytest=[]\n",
    "for image in x_test:\n",
    "  xtest.append(cv2.cvtColor(image, cv2.COLOR_BGR2GRAY))"
   ]
  },
  {
   "cell_type": "code",
   "execution_count": null,
   "metadata": {},
   "outputs": [],
   "source": [
    "xtest=np.array(xtest)\n",
    "xtest=xtest.reshape(-1,48,48,1) \n",
    "xtest=xtest/255.0 \n",
    "ytest=tf.keras.utils.to_categorical(y_test,num_classes=7)"
   ]
  },
  {
   "cell_type": "code",
   "execution_count": null,
   "metadata": {},
   "outputs": [],
   "source": [
    "model.evaluate(x=xtest,y=ytest)"
   ]
  },
  {
   "cell_type": "code",
   "execution_count": null,
   "metadata": {},
   "outputs": [],
   "source": [
    "img=cv2.imread(\"E:\\\\Downloads\\\\facial_emotion\\\\test\\\\angry\\\\im39.png\")\n",
    "pred(img)\n"
   ]
  },
  {
   "cell_type": "code",
   "execution_count": null,
   "metadata": {},
   "outputs": [],
   "source": [
    "img=cv2.imread(\"E:\\\\Downloads\\\\facial_emotion\\\\test\\\\disgusted\\\\im32.png\")\n",
    "pred(img)"
   ]
  },
  {
   "cell_type": "code",
   "execution_count": null,
   "metadata": {},
   "outputs": [],
   "source": [
    "img=cv2.imread(\"E:\\\\Downloads\\\\facial_emotion\\\\test\\\\fearful\\\\im16.png\")\n",
    "pred(img)"
   ]
  },
  {
   "cell_type": "code",
   "execution_count": null,
   "metadata": {},
   "outputs": [],
   "source": [
    "img=cv2.imread(\"E:\\\\Downloads\\\\facial_emotion\\\\test\\\\happy\\\\im28.png\")\n",
    "pred(img)"
   ]
  },
  {
   "cell_type": "code",
   "execution_count": null,
   "metadata": {},
   "outputs": [],
   "source": [
    "img=cv2.imread(\"E:\\\\Downloads\\\\facial_emotion\\\\test\\\\neutral\\\\im132.png\")\n",
    "pred(img)"
   ]
  },
  {
   "cell_type": "code",
   "execution_count": null,
   "metadata": {},
   "outputs": [],
   "source": [
    "img=cv2.imread(\"E:\\\\Downloads\\\\facial_emotion\\\\test\\\\sad\\\\im135.png\")\n",
    "pred(img)"
   ]
  },
  {
   "cell_type": "code",
   "execution_count": null,
   "metadata": {},
   "outputs": [],
   "source": [
    "img=cv2.imread(\"E:\\\\Downloads\\\\facial_emotion\\\\test\\\\surprised\\\\im32.png\")\n",
    "pred(img)"
   ]
  },
  {
   "cell_type": "code",
   "execution_count": null,
   "metadata": {},
   "outputs": [],
   "source": [
    "def pred(img):\n",
    "    xtest=cv2.cvtColor(img, cv2.COLOR_BGR2GRAY)\n",
    "    xtest=np.array(xtest)\n",
    "    plt.imshow(xtest,'gray')\n",
    "    xtest=xtest.reshape(-1,48,48,1) \n",
    "    xtest=xtest/255.0 \n",
    "    mpred=model.predict(xtest)\n",
    "    \n",
    "    if(mpred[0][0]==np.amax(mpred[0])):\n",
    "        print(\"Angry\")\n",
    "    elif(mpred[0][1]==np.amax(mpred[0])):\n",
    "        print(\"Disgusted\")\n",
    "    elif(mpred[0][2]==np.amax(mpred[0])):\n",
    "        print(\"Fearful\")\n",
    "    elif(mpred[0][3]==np.amax(mpred[0])):\n",
    "        print(\"Happy\")\n",
    "    elif(mpred[0][4]==np.amax(mpred[0])):\n",
    "        print(\"Neutral\")\n",
    "    elif(mpred[0][5]==np.amax(mpred[0])):\n",
    "        print(\"Sad\")\n",
    "    else:\n",
    "        print(\"Surprised\")"
   ]
  },
  {
   "cell_type": "code",
   "execution_count": null,
   "metadata": {},
   "outputs": [],
   "source": [
    "\n",
    "import sklearn.metrics as metrics\n",
    "\n",
    "confusion_matrix = metrics.confusion_matrix(y_true=ytest.argmax(axis=1), y_pred=p.argmax(axis=1))"
   ]
  },
  {
   "cell_type": "code",
   "execution_count": null,
   "metadata": {
    "scrolled": true
   },
   "outputs": [],
   "source": [
    "print(p)"
   ]
  },
  {
   "cell_type": "code",
   "execution_count": null,
   "metadata": {},
   "outputs": [],
   "source": [
    "p=model.predict(xtest)"
   ]
  },
  {
   "cell_type": "code",
   "execution_count": null,
   "metadata": {},
   "outputs": [],
   "source": [
    "confusion_matrix"
   ]
  },
  {
   "cell_type": "code",
   "execution_count": null,
   "metadata": {},
   "outputs": [],
   "source": [
    "confusion_matrix.shape"
   ]
  }
 ],
 "metadata": {
  "kernelspec": {
   "display_name": "Python 3",
   "language": "python",
   "name": "python3"
  },
  "language_info": {
   "codemirror_mode": {
    "name": "ipython",
    "version": 3
   },
   "file_extension": ".py",
   "mimetype": "text/x-python",
   "name": "python",
   "nbconvert_exporter": "python",
   "pygments_lexer": "ipython3",
   "version": "3.7.9"
  }
 },
 "nbformat": 4,
 "nbformat_minor": 4
}
